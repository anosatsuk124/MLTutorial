{
 "cells": [
  {
   "cell_type": "code",
   "execution_count": 16,
   "id": "2e0300ff",
   "metadata": {},
   "outputs": [
    {
     "data": {
      "text/html": [
       "<div><div></div><div></div><div><strong>Installed Packages</strong><ul><li><span>Microsoft.ML, 1.7.1</span></li></ul></div></div>"
      ]
     },
     "metadata": {},
     "output_type": "display_data"
    }
   ],
   "source": [
    "#r \"nuget: Microsoft.ML\""
   ]
  },
  {
   "cell_type": "code",
   "execution_count": 17,
   "id": "cbb54927",
   "metadata": {},
   "outputs": [],
   "source": [
    "open System\n",
    "open System.IO"
   ]
  },
  {
   "cell_type": "code",
   "execution_count": 18,
   "id": "528c20ff",
   "metadata": {},
   "outputs": [],
   "source": [
    "open Microsoft.ML\n",
    "open Microsoft.ML.Data"
   ]
  },
  {
   "cell_type": "code",
   "execution_count": 19,
   "id": "35cb40be",
   "metadata": {},
   "outputs": [],
   "source": [
    "let _dataPath =\n",
    "    Path.Combine(Environment.CurrentDirectory, \"..\", \"Data\", \"yelp_labelled.txt\")"
   ]
  },
  {
   "cell_type": "code",
   "execution_count": 20,
   "id": "d1eba52f",
   "metadata": {},
   "outputs": [],
   "source": [
    "type SentimentData =\n",
    "    { [<LoadColumn 0>]\n",
    "      SentimentText: string\n",
    "      [<LoadColumn 1; ColumnName \"Label\">]\n",
    "      Sentiment: bool }\n",
    "\n",
    "[<CLIMutable>]\n",
    "type SentimentPrediction =\n",
    "    { [<ColumnName \"PredictedLabel\">]\n",
    "      Prediction: bool\n",
    "      Probability: single\n",
    "      Score: single }"
   ]
  },
  {
   "cell_type": "code",
   "execution_count": 21,
   "id": "2450c374",
   "metadata": {},
   "outputs": [],
   "source": [
    "let mlcontext = MLContext()"
   ]
  },
  {
   "cell_type": "code",
   "execution_count": 22,
   "id": "9c9e0719",
   "metadata": {},
   "outputs": [],
   "source": [
    "let LoadData (mlContext: MLContext) =\n",
    "    let dataView =\n",
    "        mlContext.Data.LoadFromTextFile<SentimentData>(_dataPath, hasHeader = false)\n",
    "\n",
    "    mlContext.Data.TrainTestSplit(dataView, testFraction = 0.2)"
   ]
  },
  {
   "cell_type": "code",
   "execution_count": 23,
   "id": "7fd70c50",
   "metadata": {},
   "outputs": [],
   "source": [
    "let splitDataView = LoadData(mlcontext)"
   ]
  },
  {
   "cell_type": "code",
   "execution_count": 24,
   "id": "130b7a2f",
   "metadata": {
    "lines_to_next_cell": 2
   },
   "outputs": [],
   "source": [
    "let BuildAndTrainModel (mlContext: MLContext) splitTrainSet =\n",
    "    mlContext\n",
    "        .Transforms\n",
    "        .Text\n",
    "        .FeaturizeText(\n",
    "            outputColumnName = \"Features\",\n",
    "            inputColumnName = nameof Unchecked.defaultof<SentimentData>.SentimentText\n",
    "        )\n",
    "        .Append(\n",
    "            mlContext.BinaryClassification.Trainers.SdcaLogisticRegression(\n",
    "                labelColumnName = \"Label\",\n",
    "                featureColumnName = \"Features\"\n",
    "            )\n",
    "        )\n",
    "        .Fit(splitTrainSet)"
   ]
  },
  {
   "cell_type": "code",
   "execution_count": 25,
   "id": "b64922ec",
   "metadata": {},
   "outputs": [
    {
     "name": "stdout",
     "output_type": "stream",
     "text": [
      "=============== Create and Train the Model ===============\n",
      "=============== End of training ===============\n"
     ]
    }
   ],
   "source": [
    "printfn \"=============== Create and Train the Model ===============\"\n",
    "\n",
    "let model = BuildAndTrainModel mlcontext splitDataView.TrainSet\n",
    "\n",
    "printfn \"=============== End of training ===============\""
   ]
  },
  {
   "cell_type": "code",
   "execution_count": 26,
   "id": "e5c9c85a",
   "metadata": {},
   "outputs": [],
   "source": [
    "let Evaluate (mlContext: MLContext) (model: ITransformer) (splitTestSet: IDataView) =\n",
    "    let predictions = model.Transform(splitTestSet)\n",
    "    mlContext.BinaryClassification.Evaluate(predictions, \"Label\")"
   ]
  },
  {
   "cell_type": "code",
   "execution_count": 27,
   "id": "5631fef0",
   "metadata": {},
   "outputs": [
    {
     "name": "stdout",
     "output_type": "stream",
     "text": [
      "=============== Evaluating Model accuracy with Test data===============\n",
      "Model quality metrics evaluation\n",
      "--------------------------------\n",
      "Accuracy: 82.35 %\n",
      "Auc: 90.05 %\n",
      "F1Score: 83.25 %\n",
      "=============== End of model evaluation ===============\n"
     ]
    }
   ],
   "source": [
    "printfn \"=============== Evaluating Model accuracy with Test data===============\"\n",
    "\n",
    "let metrics = Evaluate mlcontext model splitDataView.TestSet\n",
    "\n",
    "printfn \"Model quality metrics evaluation\"\n",
    "printfn \"--------------------------------\"\n",
    "printfn $\"Accuracy: {metrics.Accuracy:P2}\"\n",
    "printfn $\"Auc: {metrics.AreaUnderRocCurve:P2}\"\n",
    "printfn $\"F1Score: {metrics.F1Score:P2}\"\n",
    "printfn \"=============== End of model evaluation ===============\""
   ]
  },
  {
   "cell_type": "code",
   "execution_count": 28,
   "id": "01c4445e",
   "metadata": {},
   "outputs": [],
   "source": [
    "let UseModelWithSingleItem (mlContext: MLContext) (model: ITransformer) =\n",
    "    let predictionFunction =\n",
    "        mlContext.Model.CreatePredictionEngine<SentimentData, SentimentPrediction>(model)\n",
    "    { SentimentText = \"This was a very bad steak\"; Sentiment = false; }\n",
    "    |> predictionFunction.Predict"
   ]
  },
  {
   "cell_type": "code",
   "execution_count": 29,
   "id": "c912734a",
   "metadata": {},
   "outputs": [
    {
     "name": "stdout",
     "output_type": "stream",
     "text": [
      "=============== Prediction Test of model with a single sample and test dataset ===============\n",
      "Prediction: Negative | Probability: 0.033318043 \n",
      "=============== End of Predictions ===============\n"
     ]
    }
   ],
   "source": [
    "printfn \"=============== Prediction Test of model with a single sample and test dataset ===============\"\n",
    "\n",
    "let resultPrediction = UseModelWithSingleItem mlcontext model\n",
    "printfn $\"\"\"Prediction: {if resultPrediction.Prediction then \"Positive\" else \"Negative\"} | Probability: {resultPrediction.Probability} \"\"\"\n",
    "\n",
    "printfn \"=============== End of Predictions ===============\""
   ]
  },
  {
   "cell_type": "code",
   "execution_count": null,
   "id": "10dc4b81",
   "metadata": {},
   "outputs": [],
   "source": []
  }
 ],
 "metadata": {
  "jupytext": {
   "cell_metadata_filter": "-all",
   "notebook_metadata_filter": "-all"
  },
  "kernelspec": {
   "display_name": ".NET (F#)",
   "language": "F#",
   "name": ".net-fsharp"
  },
  "language_info": {
   "file_extension": ".fs",
   "mimetype": "text/x-fsharp",
   "name": "F#",
   "pygments_lexer": "fsharp",
   "version": "6.0"
  }
 },
 "nbformat": 4,
 "nbformat_minor": 5
}
